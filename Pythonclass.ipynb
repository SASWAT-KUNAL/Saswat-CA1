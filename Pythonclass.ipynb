class ChargingStationManager:
    def __init__(self):
        # Dictionary to store charging sessions for each vehicle
        # Format: {vehicle_id: [(start_time, end_time, energy_kwh), ...]}
        self.sessions = {}

    def add_charging_session(self, vehicle_id, start_time, end_time, energy_kwh):
        """
        Adds a new charging session for the given vehicle.
        
        Args:
            vehicle_id (str): ID of the vehicle.
            start_time (str): Charging session start time.
            end_time (str): Charging session end time.
            energy_kwh (float): Amount of energy charged in kWh.
        """
        if vehicle_id not in self.sessions:
            self.sessions[vehicle_id] = []
        self.sessions[vehicle_id].append((start_time, end_time, energy_kwh))
        print(f"Charging session added for vehicle {vehicle_id}: {energy_kwh} kWh from {start_time} to {end_time}")

    def total_energy_consumed(self, vehicle_id):
        """
        Computes the total energy consumption for a vehicle.

        Args:
            vehicle_id (str): ID of the vehicle.
        
        Returns:
            float: Total energy consumption in kWh.
        """
        if vehicle_id not in self.sessions:
            return 0.0
        total_energy = sum(session[2] for session in self.sessions[vehicle_id])
        return total_energy

# Example usage
manager = ChargingStationManager()

# Add some charging sessions
manager.add_charging_session("EV123", "2023-09-01 08:00", "2023-09-01 10:00", 25.5)
manager.add_charging_session("EV123", "2023-09-02 09:00", "2023-09-02 11:00", 30.0)

# Calculate total energy consumed
total_energy = manager.total_energy_consumed("EV123")
print(f"Total energy consumed by EV123: {total_energy} kWh")
class ChargingStationManager:
    def __init__(self):
        # Dictionary to store charging sessions for each vehicle
        # Format: {vehicle_id: [(start_time, end_time, energy_kwh), ...]}
        self.sessions = {}

    def add_charging_session(self, vehicle_id, start_time, end_time, energy_kwh):
        """
        Adds a new charging session for the given vehicle.
        
        Args:
            vehicle_id (str): ID of the vehicle.
            start_time (str): Charging session start time.
            end_time (str): Charging session end time.
            energy_kwh (float): Amount of energy charged in kWh.
        """
        if vehicle_id not in self.sessions:
            self.sessions[vehicle_id] = []
        self.sessions[vehicle_id].append((start_time, end_time, energy_kwh))
        print(f"Charging session added for vehicle {vehicle_id}: {energy_kwh} kWh from {start_time} to {end_time}")

    def total_energy_consumed(self, vehicle_id):
        """
        Computes the total energy consumption for a vehicle.

        Args:
            vehicle_id (str): ID of the vehicle.
        
        Returns:
            float: Total energy consumption in kWh.
        """
        if vehicle_id not in self.sessions:
            return 0.0
        total_energy = sum(session[2] for session in self.sessions[vehicle_id])
        return total_energy

# Example usage
manager = ChargingStationManager()

# Add some charging sessions
manager.add_charging_session("EV123", "2023-09-01 08:00", "2023-09-01 10:00", 25.5)
manager.add_charging_session("EV123", "2023-09-02 09:00", "2023-09-02 11:00", 30.0)

# Calculate total energy consumed
total_energy = manager.total_energy_consumed("EV123")
print(f"Total energy consumed by EV123: {total_energy} kWh")
